{
 "cells": [
  {
   "cell_type": "markdown",
   "metadata": {},
   "source": [
    "# MuTe 2D "
   ]
  },
  {
   "cell_type": "markdown",
   "metadata": {},
   "source": [
    "Este código reconstruye la dirección de arribo de la partícula a partir de la incidencia en dos pixeles, uno en el panel superior y otro en el inferior, tal y como se muestra en la figura  \n",
    "\n",
    "![text](Figuras/PlacasMuonScopio.png)\n"
   ]
  },
  {
   "cell_type": "code",
   "execution_count": 13,
   "metadata": {
    "collapsed": false
   },
   "outputs": [],
   "source": [
    "%matplotlib inline\n",
    "import numpy as np\n",
    "import matplotlib.pyplot as plt\n",
    "import math"
   ]
  },
  {
   "cell_type": "markdown",
   "metadata": {},
   "source": [
    "Defino la función para validar los pixeles "
   ]
  },
  {
   "cell_type": "code",
   "execution_count": 14,
   "metadata": {
    "collapsed": false
   },
   "outputs": [],
   "source": [
    "def ValidoPixel(XPixel, YPixel, NBar) :\n",
    "    if XPixel < 0 or XPixel > NBar :\n",
    "         print (\" error en Pixel X  \")\n",
    "    if YPixel < 0 or YPixel > NBar :\n",
    "         print (\" error en Pixel Y  \")\n",
    "    return "
   ]
  },
  {
   "cell_type": "code",
   "execution_count": 15,
   "metadata": {
    "collapsed": false
   },
   "outputs": [],
   "source": [
    "# Función que pinta los paneles y los pixeles\n",
    "# PanelArriba y PanelAbajo son dos arreglos bidimensionales NBar x NBar\n",
    "def PintoPaneles(PanelArriba,PanelAbajo) :\n",
    "    plt.subplot(1, 2, 1)\n",
    "    plt.xlabel('i')\n",
    "    plt.ylabel('j')\n",
    "    plt.title('Panel Frontal')\n",
    "    plt.imshow(PanelArriba)\n",
    "    plt.subplot(1, 2, 2)\n",
    "    plt.xlabel('k')\n",
    "    plt.ylabel('l')    \n",
    "    plt.title('Panel Posterior')\n",
    "    plt.imshow(PanelAbajo)\n",
    "    # dibujo los paneles\n",
    "    plt.show()\n",
    "    return"
   ]
  },
  {
   "cell_type": "code",
   "execution_count": 16,
   "metadata": {
    "collapsed": false
   },
   "outputs": [],
   "source": [
    "def DireccionArribo(XPixelArriba, YPixelArriba, XPixelAbajo, YPixelAbajo, SeparacionPaneles, AnchBar ):\n",
    "    global XArribo, YArribo, ZArribo, cosAlpha, cosBeta, cosGamma\n",
    "    import math\n",
    "    XArribo = AnchBar*(XPixelAbajo -XPixelArriba)\n",
    "    YArribo = AnchBar*(YPixelAbajo -YPixelArriba)\n",
    "    ZArribo = SeparacionPaneles\n",
    "    modulo = math.sqrt(XArribo**2 +YArribo**2 +ZArribo**2)\n",
    "    cosAlpha = XArribo/modulo\n",
    "    cosBeta = YArribo/modulo\n",
    "    cosGamma = ZArribo/modulo\n",
    "    print (\"X Arribo =\", XArribo, \"    Y Arribo =\", YArribo, \"    Z Arribo =\", ZArribo)\n",
    "    print (\"los cosenos directores\")\n",
    "    print (\"coseno Alpha =\", cosAlpha, \"; coseno Beta =\", cosBeta, \"; coseno Gamma =\", cosGamma)\n",
    "    return "
   ]
  },
  {
   "cell_type": "markdown",
   "metadata": {},
   "source": [
    "## Paneles\n",
    "\n",
    "Caracterizo los dos paneles paralelos, separados una distancia $\\texttt{SeparacionPaneles}$ (medida en cm) conformados con $\\texttt{NBar}$ = número de Barras, cada una con un ancho $\\texttt{AnchBar}$ (medida en cm)"
   ]
  },
  {
   "cell_type": "code",
   "execution_count": 17,
   "metadata": {
    "collapsed": true
   },
   "outputs": [],
   "source": [
    "# NBar = input(\"Numero de Barras ? \")\n",
    "# AnchBar = input(\"Ancho de las Barras (cn) ? \")\n",
    "# SeparacionPaneles = input(\"Separacion de los Paneles (cm) ? \")\n",
    "NBar = 11 \n",
    "AnchBar = 5 # cm\n",
    "SeparacionPaneles = 100 # cm"
   ]
  },
  {
   "cell_type": "markdown",
   "metadata": {},
   "source": [
    "Pinto los paneles"
   ]
  },
  {
   "cell_type": "code",
   "execution_count": 18,
   "metadata": {
    "collapsed": true
   },
   "outputs": [],
   "source": [
    "# limpio el contenido de los paneles\n",
    "PanelSuperior = np.zeros((NBar,NBar)) # i j\n",
    "PanelInferior = np.zeros((NBar,NBar)) # k l"
   ]
  },
  {
   "cell_type": "code",
   "execution_count": 19,
   "metadata": {
    "collapsed": false
   },
   "outputs": [
    {
     "data": {
      "image/png": "[encoded data removed]",
      "text/plain": [
       "<matplotlib.figure.Figure at 0x7f40603d5668>"
      ]
     },
     "metadata": {},
     "output_type": "display_data"
    }
   ],
   "source": [
    "PintoPaneles(PanelSuperior,PanelInferior)"
   ]
  },
  {
   "cell_type": "markdown",
   "metadata": {},
   "source": [
    "## Pixeles de Paneles\n",
    "Inserte los pixeles en los paneles\n",
    "\n",
    "Panel superior"
   ]
  },
  {
   "cell_type": "code",
   "execution_count": 20,
   "metadata": {
    "collapsed": false
   },
   "outputs": [],
   "source": [
    "# XPixelArriba = input(\"Pixel X panel superior ? \")\n",
    "# YPixelArriba = input(\"Pixel X panel inferior ? \")\n",
    "XPixelArriba= 3\n",
    "YPixelArriba= 5\n",
    "ValidoPixel(XPixelArriba,YPixelArriba,NBar)"
   ]
  },
  {
   "cell_type": "markdown",
   "metadata": {},
   "source": [
    "Panel inferior"
   ]
  },
  {
   "cell_type": "code",
   "execution_count": 21,
   "metadata": {
    "collapsed": true
   },
   "outputs": [],
   "source": [
    "# XPixelAbajo = input(\"Pixel X panel superior ? \")\n",
    "# YPixelAbajo = input(\"Pixel X panel inferior ? \")\n",
    "XPixelAbajo= 9\n",
    "YPixelAbajo= 3\n",
    "ValidoPixel(XPixelAbajo,YPixelAbajo,NBar)"
   ]
  },
  {
   "cell_type": "code",
   "execution_count": 22,
   "metadata": {
    "collapsed": false,
    "scrolled": true
   },
   "outputs": [
    {
     "data": {
      "image/png": "[encoded data removed]",
      "text/plain": [
       "<matplotlib.figure.Figure at 0x7f4060473550>"
      ]
     },
     "metadata": {},
     "output_type": "display_data"
    }
   ],
   "source": [
    "# limpio el contenido de los paneles\n",
    "PanelFrontal = np.zeros((NBar,NBar)) # i j\n",
    "PanelPosterior = np.zeros((NBar,NBar)) # k l\n",
    "# ilumino las celdas de los paneles\n",
    "PanelFrontal[YPixelArriba,XPixelArriba]= 10.\n",
    "PanelPosterior[YPixelAbajo,XPixelAbajo] = 10.\n",
    "PintoPaneles(PanelFrontal,PanelPosterior)"
   ]
  },
  {
   "cell_type": "markdown",
   "metadata": {},
   "source": [
    "Calculo la dirección de arribo en términos de los cosenos directores"
   ]
  },
  {
   "cell_type": "code",
   "execution_count": 23,
   "metadata": {
    "collapsed": false
   },
   "outputs": [
    {
     "name": "stdout",
     "output_type": "stream",
     "text": [
      "X Arribo = 30     Y Arribo = -10     Z Arribo = 100\n",
      "los cosenos directores\n",
      "coseno Alpha = 0.28603877677367767 ; coseno Beta = -0.09534625892455922 ; coseno Gamma = 0.9534625892455922\n"
     ]
    }
   ],
   "source": [
    "DireccionArribo(XPixelArriba, YPixelArriba, XPixelAbajo, YPixelAbajo, SeparacionPaneles,AnchBar )"
   ]
  },
  {
   "cell_type": "markdown",
   "metadata": {},
   "source": [
    "ilumino todos los pixeles con direcciones equivalentes"
   ]
  },
  {
   "cell_type": "code",
   "execution_count": 24,
   "metadata": {
    "collapsed": false
   },
   "outputs": [
    {
     "data": {
      "image/png": "[encoded data removed]",
      "text/plain": [
       "<matplotlib.figure.Figure at 0x7f406055af60>"
      ]
     },
     "metadata": {},
     "output_type": "display_data"
    }
   ],
   "source": [
    "# limpio el contenido de los paneles\n",
    "PanelFrontal = np.zeros((NBar,NBar)) # i j\n",
    "PanelPosterior = np.zeros((NBar,NBar)) # k l\n",
    "# ilumino los puntos que corresponden a direcciones equivalentes\n",
    "DeltaXIngreso = XPixelAbajo -XPixelArriba\n",
    "DeltaYIngreso = YPixelAbajo -YPixelArriba\n",
    "#\n",
    "for i in range(NBar)  :\n",
    "    for j in range(NBar)  :\n",
    "        if i+DeltaXIngreso < NBar  and i+DeltaXIngreso >= 0 :\n",
    "            if j+DeltaYIngreso < NBar  and j +DeltaYIngreso >= 0 :\n",
    "                PanelFrontal[j,i]= 10.\n",
    "                PanelPosterior[j+DeltaYIngreso,i+DeltaXIngreso]= 10.\n",
    "            else :continue\n",
    "        else : continue\n",
    "# Pinto los paneles            \n",
    "PintoPaneles(PanelFrontal,PanelPosterior)"
   ]
  },
  {
   "cell_type": "code",
   "execution_count": null,
   "metadata": {
    "collapsed": true
   },
   "outputs": [],
   "source": []
  }
 ],
 "metadata": {
  "kernelspec": {
   "display_name": "Python 3",
   "language": "python",
   "name": "python3"
  },
  "language_info": {
   "codemirror_mode": {
    "name": "ipython",
    "version": 3
   },
   "file_extension": ".py",
   "mimetype": "text/x-python",
   "name": "python",
   "nbconvert_exporter": "python",
   "pygments_lexer": "ipython3",
   "version": "3.5.1"
  }
 },
 "nbformat": 4,
 "nbformat_minor": 0
}
