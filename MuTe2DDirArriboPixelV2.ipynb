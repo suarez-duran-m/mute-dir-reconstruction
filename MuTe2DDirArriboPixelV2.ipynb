{
 "cells": [
  {
   "cell_type": "markdown",
   "metadata": {},
   "source": [
    "# MuTe 2D\n",
    "Codigo para identificar los pixeles iluminados en los paneles a partir de la dirección de arribo de muones identificadas mediante los cosenos directores:\n",
    "\n",
    "$\\vec{\\mathrm{e}}_{r}  =\\frac{\\vec{r}}{|\\vec{r}|} =   \\cos(a) \\vec{\\mathrm{e}}_{\\bar{x}} +\\cos(a) \\vec{\\mathrm{e}}_{\\bar{y}}  +\\cos(c) \\vec{\\mathrm{e}}_{\\bar{z}}$\n",
    "\n",
    "respecto a los ejes coodenados $(\\bar{x},\\bar{y},\\bar{z})$ fijos en el telescopio\n"
   ]
  },
  {
   "cell_type": "code",
   "execution_count": 42,
   "metadata": {
    "collapsed": false
   },
   "outputs": [
    {
     "data": {
      "image/png": "[encoded data removed]",
      "text/plain": [
       "<IPython.core.display.Image object>"
      ]
     },
     "execution_count": 42,
     "metadata": {},
     "output_type": "execute_result"
    }
   ],
   "source": [
    "from IPython.display import Image\n",
    "Image(filename='Figuras/Direction_cosine_unit_vector.png')"
   ]
  },
  {
   "cell_type": "code",
   "execution_count": 43,
   "metadata": {
    "collapsed": false
   },
   "outputs": [],
   "source": [
    "%matplotlib inline\n",
    "import numpy as np\n",
    "import matplotlib.pyplot as plt\n",
    "import math"
   ]
  },
  {
   "cell_type": "markdown",
   "metadata": {},
   "source": [
    "Algunas funciones para empezar"
   ]
  },
  {
   "cell_type": "code",
   "execution_count": 44,
   "metadata": {
    "collapsed": false
   },
   "outputs": [],
   "source": [
    "# Función que pinta los paneles y los pixeles\n",
    "# PanelArriba y PanelAbajo son dos arreglos bidimensionales NBar x NBar\n",
    "def PintoPaneles(PanelArriba,PanelAbajo) :\n",
    "    plt.subplot(1, 2, 1)\n",
    "    plt.xlabel('i')\n",
    "    plt.ylabel('j')\n",
    "    plt.title('Panel Frontal')\n",
    "    plt.imshow(PanelArriba)\n",
    "    plt.subplot(1, 2, 2)\n",
    "    plt.xlabel('k')\n",
    "    plt.ylabel('l')    \n",
    "    plt.title('Panel Posterior')\n",
    "    plt.imshow(PanelAbajo)\n",
    "    # dibujo los paneles\n",
    "    plt.show()\n",
    "    return"
   ]
  },
  {
   "cell_type": "code",
   "execution_count": 45,
   "metadata": {
    "collapsed": false
   },
   "outputs": [],
   "source": [
    "# Valido si la función de entrada coseno o seno está en los rangos\n",
    "def ValidoCosenoSeno(CosSen) :\n",
    "    if CosSen < -1 or CosSen > 1 :\n",
    "         print (\" error en la funcion coseno o seno  \")\n",
    "    return "
   ]
  },
  {
   "cell_type": "markdown",
   "metadata": {},
   "source": [
    "## Paneles\n",
    "\n",
    "Caracterizo los dos paneles paralelos, separados una distancia $D \\equiv \\texttt{SeparacionPaneles}$ (medida en cm) conformados con $N \\equiv \\texttt{NBar}$ = número de Barras, cada una con un ancho $d \\equiv \\texttt{AnchBar}$ (medida en centímetros)"
   ]
  },
  {
   "cell_type": "code",
   "execution_count": 46,
   "metadata": {
    "collapsed": true
   },
   "outputs": [],
   "source": [
    "# NBar = input(\"Numero de Barras ? \")\n",
    "# AnchBar = input(\"Ancho de las Barras (cn) ? \")\n",
    "# SeparacionPaneles = input(\"Separacion de los Paneles (cm) ? \")\n",
    "NBar = 30 \n",
    "AnchBar = 4 # cm\n",
    "SeparacionPaneles = 100 # cm"
   ]
  },
  {
   "cell_type": "markdown",
   "metadata": {},
   "source": [
    "Pinto los paneles"
   ]
  },
  {
   "cell_type": "code",
   "execution_count": 47,
   "metadata": {
    "collapsed": false
   },
   "outputs": [
    {
     "data": {
      "image/png": "[encoded data removed]",
      "text/plain": [
       "<matplotlib.figure.Figure at 0x7f1019c91eb8>"
      ]
     },
     "metadata": {},
     "output_type": "display_data"
    }
   ],
   "source": [
    "# limpio el contenido de los paneles\n",
    "PanelSuperior = np.zeros((NBar,NBar)) # i j\n",
    "PanelInferior = np.zeros((NBar,NBar)) # k l\n",
    "PintoPaneles(PanelSuperior,PanelInferior)"
   ]
  },
  {
   "cell_type": "markdown",
   "metadata": {},
   "source": [
    "a partir de las definiciones de los cosenos directores de la dirección de incidencia en términos de las dimensiones del detector \n",
    "\n",
    "$\\vec{r}_{m n} = X_{m}\\vec{\\mathrm{e}}_{\\bar{x}} +Y_{n}\\vec{\\mathrm{e}}_{\\bar{y}} +Z \\vec{\\mathrm{e}}_{\\bar{z}} \\equiv\n",
    "d(k-i)\\vec{\\mathrm{e}}_{\\bar{x}} + d(l-j)\\vec{\\mathrm{e}}_{\\bar{y}} +D\\vec{\\mathrm{e}}_{\\bar{z}}$\n",
    "\n",
    "donde $i, j$ indican las posiciones de las barras en el panel superior tal y como se indica en la figura, mientras que $ k , l $ corresponden a las posiciones de las barras en el panel inferior.\n",
    "\n",
    "Por otro lado tenemos que \n",
    "\n",
    "$\\vec{\\mathrm{e}}_{r}  =\\frac{\\vec{r}}{|\\vec{r}|} =   \n",
    "\\cos(a) \\vec{\\mathrm{e}}_{\\bar{x}} +\\cos(b) \\vec{\\mathrm{e}}_{\\bar{y}}  +\\cos(c) \\vec{\\mathrm{e}}_{\\bar{z}}   \\equiv \n",
    "\\frac{(k-i)}{\\sqrt{ (k -i)^{2} + (l -j)^{2} + \\left(\\frac{D}{d}\\right)^{2} }  } \\vec{\\mathrm{e}}_{\\bar{x}} +\n",
    "\\frac{(l-j)}{\\sqrt{ (k -i)^{2} + (l -j)^{2} + \\left(\\frac{D}{d}\\right)^{2} }  } \\vec{\\mathrm{e}}_{\\bar{y}} +\n",
    "\\frac{ \\left(\\frac{D}{d}\\right)}{\\sqrt{ (k -i)^{2} + (l -j)^{2} + \\left(\\frac{D}{d}\\right)^{2} }} \\vec{\\mathrm{e}}_{\\bar{z}} $\n",
    "\n",
    "Con lo cual los cosenos directores quedan definidos en términos de los parámetros del telescopio como\n",
    "\n",
    "$\\cos(a) = \\frac{(k-i)}{\\sqrt{ (k -i)^{2} + (l -j)^{2} + \\left(\\frac{D}{d}\\right)^{2} }  }; \\quad $\n",
    "$\\cos(b) = \\frac{(l-j)}{\\sqrt{ (k -i)^{2} + (l -j)^{2} + \\left(\\frac{D}{d}\\right)^{2} }  }; \\quad $\n",
    "$\\cos(c) = \\frac{ \\left(\\frac{D}{d}\\right)}{\\sqrt{ (k -i)^{2} + (l -j)^{2} + \\left(\\frac{D}{d}\\right)^{2} }}. \\quad$ con la restricción $\\cos(a)^{2} + \\cos(b)^{2} + \\cos(c)^{2} = 1 $\n",
    "\n",
    "Resolviendo ese sistema encontramos\n",
    "\n",
    "$(k -i) = \\pm \\frac{D \\cos(a) }{d \\sqrt{ 1 - \\cos(a)^{2} - \\cos(b)^{2}} }; \\quad $ y \n",
    "$\\quad (l -j) = \\pm \\frac{D \\cos(b) }{d \\sqrt{ 1 - \\cos(a)^{2} - \\cos(b)^{2}}}.$ \n",
    "\n",
    "Por lo tanto al conocer la dirección de arribo en términos de los cosenos directores, tendremos las relaciónes que deben cumplir los índices de los pixeles"
   ]
  },
  {
   "cell_type": "markdown",
   "metadata": {},
   "source": [
    "## Los consenos directores de las direcciones de incidencia\n",
    "Se insertan las direcciones de arribo en función de los cosenos directores"
   ]
  },
  {
   "cell_type": "code",
   "execution_count": 64,
   "metadata": {
    "collapsed": false
   },
   "outputs": [],
   "source": [
    "# CosAlpha = input(\"cos(alpha) ? \")\n",
    "# CosBeta = input(\"cos(beta) ? \")\n",
    "CosAlpha = -0.3 \n",
    "ValidoCosenoSeno(CosAlpha)\n",
    "CosBeta = -0.5\n",
    "ValidoCosenoSeno(CosBeta)"
   ]
  },
  {
   "cell_type": "code",
   "execution_count": 65,
   "metadata": {
    "collapsed": false
   },
   "outputs": [
    {
     "name": "stdout",
     "output_type": "stream",
     "text": [
      "-9 -15\n",
      "[[ 10.  10.  10.  10.  10.  10.  10.  10.  10.  10.  10.  10.  10.  10.\n",
      "   10.  10.  10.  10.  10.  10.  10.   0.   0.   0.   0.   0.   0.   0.\n",
      "    0.   0.]\n",
      " [ 10.  10.  10.  10.  10.  10.  10.  10.  10.  10.  10.  10.  10.  10.\n",
      "   10.  10.  10.  10.  10.  10.  10.   0.   0.   0.   0.   0.   0.   0.\n",
      "    0.   0.]\n",
      " [ 10.  10.  10.  10.  10.  10.  10.  10.  10.  10.  10.  10.  10.  10.\n",
      "   10.  10.  10.  10.  10.  10.  10.   0.   0.   0.   0.   0.   0.   0.\n",
      "    0.   0.]\n",
      " [ 10.  10.  10.  10.  10.  10.  10.  10.  10.  10.  10.  10.  10.  10.\n",
      "   10.  10.  10.  10.  10.  10.  10.   0.   0.   0.   0.   0.   0.   0.\n",
      "    0.   0.]\n",
      " [ 10.  10.  10.  10.  10.  10.  10.  10.  10.  10.  10.  10.  10.  10.\n",
      "   10.  10.  10.  10.  10.  10.  10.   0.   0.   0.   0.   0.   0.   0.\n",
      "    0.   0.]\n",
      " [ 10.  10.  10.  10.  10.  10.  10.  10.  10.  10.  10.  10.  10.  10.\n",
      "   10.  10.  10.  10.  10.  10.  10.   0.   0.   0.   0.   0.   0.   0.\n",
      "    0.   0.]\n",
      " [ 10.  10.  10.  10.  10.  10.  10.  10.  10.  10.  10.  10.  10.  10.\n",
      "   10.  10.  10.  10.  10.  10.  10.   0.   0.   0.   0.   0.   0.   0.\n",
      "    0.   0.]\n",
      " [ 10.  10.  10.  10.  10.  10.  10.  10.  10.  10.  10.  10.  10.  10.\n",
      "   10.  10.  10.  10.  10.  10.  10.   0.   0.   0.   0.   0.   0.   0.\n",
      "    0.   0.]\n",
      " [ 10.  10.  10.  10.  10.  10.  10.  10.  10.  10.  10.  10.  10.  10.\n",
      "   10.  10.  10.  10.  10.  10.  10.   0.   0.   0.   0.   0.   0.   0.\n",
      "    0.   0.]\n",
      " [ 10.  10.  10.  10.  10.  10.  10.  10.  10.  10.  10.  10.  10.  10.\n",
      "   10.  10.  10.  10.  10.  10.  10.   0.   0.   0.   0.   0.   0.   0.\n",
      "    0.   0.]\n",
      " [ 10.  10.  10.  10.  10.  10.  10.  10.  10.  10.  10.  10.  10.  10.\n",
      "   10.  10.  10.  10.  10.  10.  10.   0.   0.   0.   0.   0.   0.   0.\n",
      "    0.   0.]\n",
      " [ 10.  10.  10.  10.  10.  10.  10.  10.  10.  10.  10.  10.  10.  10.\n",
      "   10.  10.  10.  10.  10.  10.  10.   0.   0.   0.   0.   0.   0.   0.\n",
      "    0.   0.]\n",
      " [ 10.  10.  10.  10.  10.  10.  10.  10.  10.  10.  10.  10.  10.  10.\n",
      "   10.  10.  10.  10.  10.  10.  10.   0.   0.   0.   0.   0.   0.   0.\n",
      "    0.   0.]\n",
      " [ 10.  10.  10.  10.  10.  10.  10.  10.  10.  10.  10.  10.  10.  10.\n",
      "   10.  10.  10.  10.  10.  10.  10.   0.   0.   0.   0.   0.   0.   0.\n",
      "    0.   0.]\n",
      " [ 10.  10.  10.  10.  10.  10.  10.  10.  10.  10.  10.  10.  10.  10.\n",
      "   10.  10.  10.  10.  10.  10.  10.   0.   0.   0.   0.   0.   0.   0.\n",
      "    0.   0.]\n",
      " [  0.   0.   0.   0.   0.   0.   0.   0.   0.   0.   0.   0.   0.   0.\n",
      "    0.   0.   0.   0.   0.   0.   0.   0.   0.   0.   0.   0.   0.   0.\n",
      "    0.   0.]\n",
      " [  0.   0.   0.   0.   0.   0.   0.   0.   0.   0.   0.   0.   0.   0.\n",
      "    0.   0.   0.   0.   0.   0.   0.   0.   0.   0.   0.   0.   0.   0.\n",
      "    0.   0.]\n",
      " [  0.   0.   0.   0.   0.   0.   0.   0.   0.   0.   0.   0.   0.   0.\n",
      "    0.   0.   0.   0.   0.   0.   0.   0.   0.   0.   0.   0.   0.   0.\n",
      "    0.   0.]\n",
      " [  0.   0.   0.   0.   0.   0.   0.   0.   0.   0.   0.   0.   0.   0.\n",
      "    0.   0.   0.   0.   0.   0.   0.   0.   0.   0.   0.   0.   0.   0.\n",
      "    0.   0.]\n",
      " [  0.   0.   0.   0.   0.   0.   0.   0.   0.   0.   0.   0.   0.   0.\n",
      "    0.   0.   0.   0.   0.   0.   0.   0.   0.   0.   0.   0.   0.   0.\n",
      "    0.   0.]\n",
      " [  0.   0.   0.   0.   0.   0.   0.   0.   0.   0.   0.   0.   0.   0.\n",
      "    0.   0.   0.   0.   0.   0.   0.   0.   0.   0.   0.   0.   0.   0.\n",
      "    0.   0.]\n",
      " [  0.   0.   0.   0.   0.   0.   0.   0.   0.   0.   0.   0.   0.   0.\n",
      "    0.   0.   0.   0.   0.   0.   0.   0.   0.   0.   0.   0.   0.   0.\n",
      "    0.   0.]\n",
      " [  0.   0.   0.   0.   0.   0.   0.   0.   0.   0.   0.   0.   0.   0.\n",
      "    0.   0.   0.   0.   0.   0.   0.   0.   0.   0.   0.   0.   0.   0.\n",
      "    0.   0.]\n",
      " [  0.   0.   0.   0.   0.   0.   0.   0.   0.   0.   0.   0.   0.   0.\n",
      "    0.   0.   0.   0.   0.   0.   0.   0.   0.   0.   0.   0.   0.   0.\n",
      "    0.   0.]\n",
      " [  0.   0.   0.   0.   0.   0.   0.   0.   0.   0.   0.   0.   0.   0.\n",
      "    0.   0.   0.   0.   0.   0.   0.   0.   0.   0.   0.   0.   0.   0.\n",
      "    0.   0.]\n",
      " [  0.   0.   0.   0.   0.   0.   0.   0.   0.   0.   0.   0.   0.   0.\n",
      "    0.   0.   0.   0.   0.   0.   0.   0.   0.   0.   0.   0.   0.   0.\n",
      "    0.   0.]\n",
      " [  0.   0.   0.   0.   0.   0.   0.   0.   0.   0.   0.   0.   0.   0.\n",
      "    0.   0.   0.   0.   0.   0.   0.   0.   0.   0.   0.   0.   0.   0.\n",
      "    0.   0.]\n",
      " [  0.   0.   0.   0.   0.   0.   0.   0.   0.   0.   0.   0.   0.   0.\n",
      "    0.   0.   0.   0.   0.   0.   0.   0.   0.   0.   0.   0.   0.   0.\n",
      "    0.   0.]\n",
      " [  0.   0.   0.   0.   0.   0.   0.   0.   0.   0.   0.   0.   0.   0.\n",
      "    0.   0.   0.   0.   0.   0.   0.   0.   0.   0.   0.   0.   0.   0.\n",
      "    0.   0.]\n",
      " [  0.   0.   0.   0.   0.   0.   0.   0.   0.   0.   0.   0.   0.   0.\n",
      "    0.   0.   0.   0.   0.   0.   0.   0.   0.   0.   0.   0.   0.   0.\n",
      "    0.   0.]]\n"
     ]
    },
    {
     "data": {
      "image/png": "[encoded data removed]",
      "text/plain": [
       "<matplotlib.figure.Figure at 0x7f102039ff98>"
      ]
     },
     "metadata": {},
     "output_type": "display_data"
    }
   ],
   "source": [
    "# limpio el contenido de los paneles\n",
    "PanelSuperior = np.zeros((NBar,NBar)) # i j\n",
    "PanelInferior = np.zeros((NBar,NBar)) # k l\n",
    "# ilumino los puntos que corresponden a direcciones equivalentes\n",
    "DeltaXIngreso = int(SeparacionPaneles*CosAlpha/(AnchBar*math.sqrt(1-CosAlpha**2 -CosBeta**2)))\n",
    "DeltaYIngreso = int(SeparacionPaneles*CosBeta/(AnchBar*math.sqrt(1-CosAlpha**2 -CosBeta**2)))\n",
    "print (DeltaXIngreso,DeltaYIngreso)\n",
    "#\n",
    "for i in range(NBar)  :\n",
    "    for j in range(NBar)  :\n",
    "        if i+DeltaXIngreso < NBar  and i+DeltaXIngreso >= 0 :\n",
    "            if j+DeltaYIngreso < NBar  and j +DeltaYIngreso >= 0 :\n",
    "                PanelSuperior[j,i]= 10.\n",
    "                PanelInferior[j+DeltaYIngreso,i+DeltaXIngreso]= 10. \n",
    "            else :continue\n",
    "        else : continue\n",
    "# Pinto los paneles            \n",
    "print (PanelInferior)\n",
    "PintoPaneles(PanelSuperior,PanelInferior)"
   ]
  }
 ],
 "metadata": {
  "kernelspec": {
   "display_name": "Python 3",
   "language": "python",
   "name": "python3"
  },
  "language_info": {
   "codemirror_mode": {
    "name": "ipython",
    "version": 3
   },
   "file_extension": ".py",
   "mimetype": "text/x-python",
   "name": "python",
   "nbconvert_exporter": "python",
   "pygments_lexer": "ipython3",
   "version": "3.5.1"
  }
 },
 "nbformat": 4,
 "nbformat_minor": 0
}
